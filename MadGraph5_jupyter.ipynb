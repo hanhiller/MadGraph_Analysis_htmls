{
 "cells": [
  {
   "cell_type": "code",
   "execution_count": 2,
   "metadata": {},
   "outputs": [],
   "source": [
    "import pylhe\n",
    "import math\n",
    "import matplotlib.pyplot as plt\n",
    "import numpy as np\n",
    "import time\n",
    "import os"
   ]
  },
  {
   "cell_type": "code",
   "execution_count": 3,
   "metadata": {},
   "outputs": [],
   "source": [
    "def invariant_mass(p1,p2):\n",
    "    # if you can understand this one line command, you can use it.\n",
    "    #return math.sqrt(sum((1 if index=='e' else -1)*(getattr(p1,index)+getattr(p2,index))**2 for index in ['e','px','py','pz']))\n",
    "    \n",
    "    p1_e, p1_px, p1_py, p1_pz = p1.e, p1.px, p1.py, p1.pz\n",
    "    p2_e, p2_px, p2_py, p2_pz = p2.e, p2.px, p2.py, p2.pz\n",
    "    \n",
    "    invariant_mass = np.sqrt((p1_e+p2_e)**2-(p1_px+p2_px)**2-(p1_py+p2_py)**2-(p1_pz+p2_pz)**2)\n",
    "    \n",
    "    return invariant_mass"
   ]
  },
  {
   "cell_type": "code",
   "execution_count": 16,
   "metadata": {},
   "outputs": [
    {
     "data": {
      "text/plain": [
       "256"
      ]
     },
     "execution_count": 16,
     "metadata": {},
     "output_type": "execute_result"
    }
   ],
   "source": [
    "# unzip unweighted_events.lhe.gz\n",
    "\n",
    "os.system(\"gzip -d ./PROC_DarkHiggs2MDM_2/Events/run_01/unweighted_events.lhe.gz\")"
   ]
  },
  {
   "cell_type": "code",
   "execution_count": 17,
   "metadata": {},
   "outputs": [
    {
     "name": "stdout",
     "output_type": "stream",
     "text": [
      "Tue Feb 09 07:59:20 2021\n",
      "There are 10000 events in this event list.\n",
      "\u001b[3;33mTime Cost : 0.0749 min\u001b[0;m\n"
     ]
    }
   ],
   "source": [
    "print(time.strftime(\"%a %b %d %H:%M:%S %Y\", time.localtime()))\n",
    "ticks_1 = time.time()\n",
    "\n",
    "# You will change this path according to your environment.\n",
    "process_path = 'PROC_DarkHiggs2MDM_2/Events/run_01/unweighted_events.lhe' \n",
    "\n",
    "monosbb = pylhe.readLHE(process_path)\n",
    "\n",
    "m_bb, m_dark, event_list = [], [], []\n",
    "\n",
    "for event in monosbb:\n",
    "    for i, element in  enumerate(event.particles):\n",
    "        if element.id == 5: # particle ID 5 stands for bottom quark.\n",
    "            tmp_p1 = i\n",
    "            break\n",
    "    \n",
    "    for i, element in  enumerate(event.particles):\n",
    "        if element.id == -5: # particle ID -5 stands for anti-bottom quark.\n",
    "            tmp_p2 = i\n",
    "            break\n",
    "    \n",
    "    for i, element in  enumerate(event.particles):\n",
    "        if element.id == 1000022: # particle ID 1000022 stands for dark matter.\n",
    "            dark_p1 = i\n",
    "            break\n",
    "    \n",
    "    for i, element in  enumerate(event.particles):\n",
    "        if element.id == 1000022: # particle ID -1000022 stands for dark matter.\n",
    "            if i != dark_p1:\n",
    "                dark_p2 = i\n",
    "                break\n",
    "    \n",
    "    \n",
    "    m_bb.append(invariant_mass(event.particles[tmp_p1],event.particles[tmp_p2]))\n",
    "    m_dark.append(invariant_mass(event.particles[dark_p1],event.particles[dark_p2]))\n",
    "    event_list.append(event)\n",
    "    \n",
    "m_bb, m_dark = np.array(m_bb), np.array(m_dark)\n",
    "\n",
    "\n",
    "\n",
    "print(\"There are {} events in this event list.\".format(len(event_list)))\n",
    "\n",
    "ticks_2 = time.time()\n",
    "totaltime =  ticks_2 - ticks_1\n",
    "print(\"\\033[3;33mTime Cost : {:.4f} min\\033[0;m\".format(totaltime/60.))"
   ]
  },
  {
   "cell_type": "code",
   "execution_count": 18,
   "metadata": {},
   "outputs": [
    {
     "data": {
      "text/plain": [
       "['__class__',\n",
       " '__delattr__',\n",
       " '__dict__',\n",
       " '__dir__',\n",
       " '__doc__',\n",
       " '__eq__',\n",
       " '__format__',\n",
       " '__ge__',\n",
       " '__getattribute__',\n",
       " '__gt__',\n",
       " '__hash__',\n",
       " '__init__',\n",
       " '__init_subclass__',\n",
       " '__le__',\n",
       " '__lt__',\n",
       " '__module__',\n",
       " '__ne__',\n",
       " '__new__',\n",
       " '__reduce__',\n",
       " '__reduce_ex__',\n",
       " '__repr__',\n",
       " '__setattr__',\n",
       " '__sizeof__',\n",
       " '__str__',\n",
       " '__subclasshook__',\n",
       " '__weakref__',\n",
       " 'color1',\n",
       " 'color2',\n",
       " 'e',\n",
       " 'event',\n",
       " 'fieldnames',\n",
       " 'fromstring',\n",
       " 'id',\n",
       " 'lifetime',\n",
       " 'm',\n",
       " 'mother1',\n",
       " 'mother2',\n",
       " 'mothers',\n",
       " 'px',\n",
       " 'py',\n",
       " 'pz',\n",
       " 'spin',\n",
       " 'status']"
      ]
     },
     "execution_count": 18,
     "metadata": {},
     "output_type": "execute_result"
    }
   ],
   "source": [
    "dir(event_list[0].particles[0])"
   ]
  },
  {
   "cell_type": "code",
   "execution_count": 19,
   "metadata": {},
   "outputs": [
    {
     "name": "stdout",
     "output_type": "stream",
     "text": [
      "     #         id      mother1     mother2        e           px          py          pz        status   \n",
      "     1         -2         0           0        1182.820     -0.000      0.000      1182.820       -1     \n",
      "     2          2         0           0        858.176      0.000       -0.000     -858.176       -1     \n",
      "     3         55         1           2        2040.996     0.000       0.000      324.643        2      \n",
      "     4         54         3           3        107.916     -21.578      32.919      44.683        2      \n",
      "     5       1000022      3           3        1071.169    -303.344    -586.137    819.652        1      \n",
      "     6       1000022      3           3        861.912     324.921     553.219     -539.691       1      \n",
      "     7          5         4           4         56.470     -37.401     -15.485      39.092        1      \n",
      "     8         -5         4           4         51.445      15.823      48.404      5.591         1      \n"
     ]
    }
   ],
   "source": [
    "print(\"{:^12}{:^9}{:^12}{:^12}{:^12}{:^12}{:^12}{:^12}{:^12}\".format(\"#\",\"id\",\"mother1\",\"mother2\",\"e\",\"px\",\"py\",\"pz\",\"status\"))\n",
    "\n",
    "for i, element in  enumerate(event_list[0].particles):\n",
    "    print(\"{:^12}{:^9.0f}{:^12.0f}{:^12.0f}{:^12.3f}{:^12.3f}{:^12.3f}{:^12.3f}{:^12.0f}\".format(i+1, element.id,element.mother1,element.mother2,element.e,element.px,element.py,element.pz,element.status))"
   ]
  },
  {
   "cell_type": "code",
   "execution_count": 21,
   "metadata": {},
   "outputs": [
    {
     "data": {
      "text/plain": [
       "(0.5, 10000)"
      ]
     },
     "execution_count": 21,
     "metadata": {},
     "output_type": "execute_result"
    },
    {
     "data": {
      "image/png": "[encoded data removed]",
      "text/plain": [
       "<Figure size 576x576 with 1 Axes>"
      ]
     },
     "metadata": {
      "needs_background": "light"
     },
     "output_type": "display_data"
    }
   ],
   "source": [
    "plt.figure(figsize=(8,8)) # plotsize\n",
    "\n",
    "bin_size = np.linspace(50,150,101)\n",
    "hist, bins = np.histogram(m_bb, bins=bin_size)\n",
    "plt.step(bins[:-1], hist.astype(np.float32),color = \"green\", where='mid',linewidth=3, alpha=0.7,label=\"$M_{b,\\\\bar{b}}$\") \n",
    "\n",
    "plt.legend(bbox_to_anchor=(0.35, 1),ncol=2,fontsize=20,frameon=False) # plot label tag\n",
    "plt.yscale('log') \n",
    "plt.xlabel(\"$M_{b,\\\\bar{b}}$ [GeV]\" , fontsize=20, horizontalalignment='right',x=1)  # plot x-axis label\n",
    "plt.ylabel(\"dN/d$M_{b,\\\\bar{b}}$ [Events / GeV]\", fontsize=20, horizontalalignment='right',y=1)  # plot y-axis label\n",
    "plt.xticks(fontsize=15)   # set x-ticks size\n",
    "plt.yticks(fontsize=15)   # set y-ticks size \n",
    "plt.ylim((0.5,10000))\n",
    "# plt.savefig(\"./invariant_mass_bb.png\")  #save figure as png"
   ]
  },
  {
   "cell_type": "code",
   "execution_count": 22,
   "metadata": {},
   "outputs": [
    {
     "data": {
      "image/png": "[encoded data removed]",
      "text/plain": [
       "<Figure size 576x576 with 1 Axes>"
      ]
     },
     "metadata": {
      "needs_background": "light"
     },
     "output_type": "display_data"
    }
   ],
   "source": [
    "plt.figure(figsize=(8,8)) # plotsize\n",
    "\n",
    "bin_size = np.linspace(1000,2500,151)\n",
    "hist, bins = np.histogram(m_dark, bins=bin_size)\n",
    "plt.step(bins[:-1], hist.astype(np.float32),color = \"green\", where='mid',linewidth=3, alpha=0.7,label=\"$M_{\\chi,\\chi}$\") \n",
    "\n",
    "plt.legend(bbox_to_anchor=(0.35, 1),ncol=2,fontsize=20,frameon=False) # plot label tag\n",
    "plt.yscale('log') \n",
    "plt.xlabel(\"$M_{\\chi,\\chi}$ [GeV]\" , fontsize=20, horizontalalignment='right',x=1)  # plot x-axis label\n",
    "plt.ylabel(\"dN/d$M_{\\chi,\\chi}$ [Events / 10 GeV]\", fontsize=20, horizontalalignment='right',y=1)  # plot y-axis label\n",
    "plt.xticks(fontsize=15)   # set x-ticks size\n",
    "plt.yticks(fontsize=15)   # set y-ticks size \n",
    "plt.ylim((0.5,5000))\n",
    "plt.xlim((1000,2500))\n",
    "# plt.savefig(\"./invariant_mass_darkmatters.png\")  #save figure as png\n",
    "plt.show()"
   ]
  },
  {
   "cell_type": "code",
   "execution_count": null,
   "metadata": {},
   "outputs": [],
   "source": []
  }
 ],
 "metadata": {
  "kernelspec": {
   "display_name": "Python 3",
   "language": "python",
   "name": "python3"
  },
  "language_info": {
   "codemirror_mode": {
    "name": "ipython",
    "version": 3
   },
   "file_extension": ".py",
   "mimetype": "text/x-python",
   "name": "python",
   "nbconvert_exporter": "python",
   "pygments_lexer": "ipython3",
   "version": "3.8.3"
  }
 },
 "nbformat": 4,
 "nbformat_minor": 4
}
